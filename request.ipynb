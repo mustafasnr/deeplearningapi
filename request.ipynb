{
 "cells": [
  {
   "cell_type": "code",
   "execution_count": 1,
   "metadata": {},
   "outputs": [],
   "source": [
    "import requests\n",
    "import json"
   ]
  },
  {
   "cell_type": "code",
   "execution_count": 6,
   "metadata": {},
   "outputs": [],
   "source": [
    "def request_predict(path,result_size=5)->requests.Response:\n",
    "    api_url = \"http://127.0.0.1:8000/models/vgg16\"\n",
    "    json_data={\"size\":result_size}\n",
    "    with open(path,\"rb\") as f:\n",
    "        files = {\"file\": (f.name, f)}\n",
    "        r = requests.post(api_url,params=json_data,files=files)\n",
    "        f.close()\n",
    "    return r"
   ]
  },
  {
   "cell_type": "code",
   "execution_count": null,
   "metadata": {},
   "outputs": [],
   "source": [
    "res=request_predict(\"image1.jpg\",5)"
   ]
  },
  {
   "cell_type": "code",
   "execution_count": null,
   "metadata": {},
   "outputs": [
    {
     "name": "stdout",
     "output_type": "stream",
     "text": [
      "{'Egyptian_cat': 0.3095782, 'lynx': 0.2642705, 'Angora': 0.118716076, 'Siamese_cat': 0.092487566, 'tabby': 0.036348097}\n"
     ]
    }
   ],
   "source": [
    "print(json.loads(res.content))"
   ]
  },
  {
   "cell_type": "code",
   "execution_count": 17,
   "metadata": {},
   "outputs": [],
   "source": [
    "res=request_predict(\"image2.jpg\",5)"
   ]
  },
  {
   "cell_type": "code",
   "execution_count": 18,
   "metadata": {},
   "outputs": [
    {
     "name": "stdout",
     "output_type": "stream",
     "text": [
      "{'daisy': 0.55625963, 'hair_slide': 0.22294876, 'vase': 0.060935393, 'cup': 0.026381517, 'pinwheel': 0.019031636}\n"
     ]
    }
   ],
   "source": [
    "print(json.loads(res.content))"
   ]
  }
 ],
 "metadata": {
  "kernelspec": {
   "display_name": "base",
   "language": "python",
   "name": "python3"
  },
  "language_info": {
   "codemirror_mode": {
    "name": "ipython",
    "version": 3
   },
   "file_extension": ".py",
   "mimetype": "text/x-python",
   "name": "python",
   "nbconvert_exporter": "python",
   "pygments_lexer": "ipython3",
   "version": "3.10.13"
  }
 },
 "nbformat": 4,
 "nbformat_minor": 2
}
