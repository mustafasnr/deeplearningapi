{
 "cells": [
  {
   "cell_type": "code",
   "execution_count": 2,
   "metadata": {},
   "outputs": [],
   "source": [
    "import requests\n",
    "import json"
   ]
  },
  {
   "cell_type": "code",
   "execution_count": 6,
   "metadata": {},
   "outputs": [],
   "source": [
    "def request_predict(path,result_size=5)->requests.Response:\n",
    "    api_url = \"http://127.0.0.1:8000/models/vgg16\"\n",
    "    json_data={\"size\":result_size}\n",
    "    with open(path,\"rb\") as f:\n",
    "        files = {\"file\": (f.name, f)}\n",
    "        r = requests.post(api_url,params=json_data,files=files)\n",
    "        f.close()\n",
    "    return r"
   ]
  },
  {
   "cell_type": "code",
   "execution_count": 7,
   "metadata": {},
   "outputs": [],
   "source": [
    "res=request_predict(\"image1.jpg\",5)"
   ]
  },
  {
   "cell_type": "code",
   "execution_count": 8,
   "metadata": {},
   "outputs": [
    {
     "name": "stdout",
     "output_type": "stream",
     "text": [
      "{'detail': [{'type': 'missing', 'loc': ['query', 'size'], 'msg': 'Field required', 'input': None, 'url': 'https://errors.pydantic.dev/2.6/v/missing'}]}\n"
     ]
    }
   ],
   "source": [
    "print(json.loads(res.content))"
   ]
  },
  {
   "cell_type": "code",
   "execution_count": 6,
   "metadata": {},
   "outputs": [],
   "source": [
    "res=request_predict(\"image2.jpg\",5)"
   ]
  },
  {
   "cell_type": "code",
   "execution_count": 7,
   "metadata": {},
   "outputs": [
    {
     "name": "stdout",
     "output_type": "stream",
     "text": [
      "{'daisy': 0.55625963, 'hair_slide': 0.22294876, 'vase': 0.060935393, 'cup': 0.026381517, 'pinwheel': 0.019031636}\n"
     ]
    }
   ],
   "source": [
    "print(json.loads(res.content))"
   ]
  },
  {
   "cell_type": "code",
   "execution_count": 1,
   "metadata": {},
   "outputs": [],
   "source": [
    "from fastapi import FastAPI,UploadFile,Body\n",
    "from fastapi.middleware.cors import CORSMiddleware\n",
    "from keras.applications.vgg16 import VGG16\n",
    "from pydantic import BaseModel\n",
    "import numpy as np\n",
    "from PIL import Image\n",
    "import io\n",
    "from keras.applications.imagenet_utils import decode_predictions\n",
    "import json"
   ]
  },
  {
   "cell_type": "code",
   "execution_count": 3,
   "metadata": {},
   "outputs": [
    {
     "name": "stdout",
     "output_type": "stream",
     "text": [
      "Name: fastapi\n",
      "Version: 0.110.1\n",
      "Summary: FastAPI framework, high performance, easy to learn, fast to code, ready for production\n",
      "Home-page: \n",
      "Author: \n",
      "Author-email: Sebastián Ramírez <tiangolo@gmail.com>\n",
      "License: \n",
      "Location: c:\\users\\muhammedpc\\miniconda3\\envs\\gpu_env\\lib\\site-packages\n",
      "Requires: pydantic, starlette, typing-extensions\n",
      "Required-by: \n"
     ]
    }
   ],
   "source": [
    "numpy->1.26.4\n",
    "pillow->10.2\n",
    "pydantic->2.6.4\n",
    "keras->2.8.0\n",
    "fastapi->0.110.0"
   ]
  }
 ],
 "metadata": {
  "kernelspec": {
   "display_name": "base",
   "language": "python",
   "name": "python3"
  },
  "language_info": {
   "codemirror_mode": {
    "name": "ipython",
    "version": 3
   },
   "file_extension": ".py",
   "mimetype": "text/x-python",
   "name": "python",
   "nbconvert_exporter": "python",
   "pygments_lexer": "ipython3",
   "version": "3.10.13"
  }
 },
 "nbformat": 4,
 "nbformat_minor": 2
}
